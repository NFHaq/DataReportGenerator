{
 "cells": [
  {
   "cell_type": "code",
   "execution_count": null,
   "metadata": {
    "collapsed": true
   },
   "outputs": [],
   "source": []
  },
  {
   "cell_type": "code",
   "execution_count": 1,
   "metadata": {
    "collapsed": true
   },
   "outputs": [],
   "source": [
    "import sys"
   ]
  },
  {
   "cell_type": "code",
   "execution_count": 2,
   "metadata": {},
   "outputs": [
    {
     "name": "stdout",
     "output_type": "stream",
     "text": [
      "3.6.1 |Anaconda 4.4.0 (64-bit)| (default, May 11 2017, 13:25:24) [MSC v.1900 64 bit (AMD64)]\n"
     ]
    }
   ],
   "source": [
    " print (sys.version)"
   ]
  },
  {
   "cell_type": "code",
   "execution_count": null,
   "metadata": {
    "collapsed": true
   },
   "outputs": [],
   "source": []
  },
  {
   "cell_type": "code",
   "execution_count": 1,
   "metadata": {},
   "outputs": [
    {
     "data": {
      "text/plain": [
       "2"
      ]
     },
     "execution_count": 1,
     "metadata": {},
     "output_type": "execute_result"
    }
   ],
   "source": [
    "round(1.77)"
   ]
  },
  {
   "cell_type": "code",
   "execution_count": null,
   "metadata": {
    "collapsed": true
   },
   "outputs": [],
   "source": []
  },
  {
   "cell_type": "code",
   "execution_count": 1,
   "metadata": {},
   "outputs": [
    {
     "ename": "ModuleNotFoundError",
     "evalue": "No module named 'PyQt4'",
     "output_type": "error",
     "traceback": [
      "\u001b[1;31m---------------------------------------------------------------------------\u001b[0m",
      "\u001b[1;31mModuleNotFoundError\u001b[0m                       Traceback (most recent call last)",
      "\u001b[1;32m<ipython-input-1-c7785542fa85>\u001b[0m in \u001b[0;36m<module>\u001b[1;34m()\u001b[0m\n\u001b[0;32m      1\u001b[0m \u001b[1;32mimport\u001b[0m \u001b[0msys\u001b[0m\u001b[1;33m\u001b[0m\u001b[0m\n\u001b[1;32m----> 2\u001b[1;33m \u001b[1;32mfrom\u001b[0m \u001b[0mPyQt4\u001b[0m \u001b[1;32mimport\u001b[0m \u001b[0mQtGui\u001b[0m\u001b[1;33m,\u001b[0m \u001b[0mQtCore\u001b[0m\u001b[1;33m\u001b[0m\u001b[0m\n\u001b[0m\u001b[0;32m      3\u001b[0m \u001b[1;33m\u001b[0m\u001b[0m\n\u001b[0;32m      4\u001b[0m \u001b[1;32mclass\u001b[0m \u001b[0mWindow\u001b[0m\u001b[1;33m(\u001b[0m\u001b[0mQtGui\u001b[0m\u001b[1;33m.\u001b[0m\u001b[0mQMainWindow\u001b[0m\u001b[1;33m)\u001b[0m\u001b[1;33m:\u001b[0m\u001b[1;33m\u001b[0m\u001b[0m\n\u001b[0;32m      5\u001b[0m \u001b[1;33m\u001b[0m\u001b[0m\n",
      "\u001b[1;31mModuleNotFoundError\u001b[0m: No module named 'PyQt4'"
     ]
    }
   ],
   "source": [
    "import sys\n",
    "from PyQt5 import QtGui, QtCore\n",
    "\n",
    "class Window(QtGui.QMainWindow):\n",
    "\n",
    "    def __init__(self):\n",
    "        super(Window, self).__init__()\n",
    "        self.setGeometry(50, 50, 500, 300)\n",
    "        self.setWindowTitle(\"PyQT tuts!\")\n",
    "        self.setWindowIcon(QtGui.QIcon('pythonlogo.png'))\n",
    "\n",
    "        extractAction = QtGui.QAction(\"&GET TO THE CHOPPAH!!!\", self)\n",
    "        extractAction.setShortcut(\"Ctrl+Q\")\n",
    "        extractAction.setStatusTip('Leave The App')\n",
    "        extractAction.triggered.connect(self.close_application)\n",
    "\n",
    "        self.statusBar()\n",
    "\n",
    "        mainMenu = self.menuBar()\n",
    "        fileMenu = mainMenu.addMenu('&File')\n",
    "        fileMenu.addAction(extractAction)\n",
    "        \n",
    "\n",
    "        self.home()\n",
    "\n",
    "    def home(self):\n",
    "        btn = QtGui.QPushButton(\"Quit\", self)\n",
    "        btn.clicked.connect(self.close_application)\n",
    "        btn.resize(btn.minimumSizeHint())\n",
    "        btn.move(0,100)\n",
    "\n",
    "        extractAction = QtGui.QAction(QtGui.QIcon('todachoppa.png'), 'Flee the Scene', self)\n",
    "        extractAction.triggered.connect(self.close_application)\n",
    "        \n",
    "        self.toolBar = self.addToolBar(\"Extraction\")\n",
    "        self.toolBar.addAction(extractAction)\n",
    " \n",
    "        self.show()\n",
    "\n",
    "    def close_application(self):\n",
    "        choice = QtGui.QMessageBox.question(self, 'Extract!',\n",
    "                                            \"Get into the chopper?\",\n",
    "                                            QtGui.QMessageBox.Yes | QtGui.QMessageBox.No)\n",
    "        if choice == QtGui.QMessageBox.Yes:\n",
    "            print(\"Extracting Naaaaaaoooww!!!!\")\n",
    "            sys.exit()\n",
    "        else:\n",
    "            pass\n",
    "\n",
    "    \n",
    "def run():\n",
    "    app = QtGui.QApplication(sys.argv)\n",
    "    GUI = Window()\n",
    "    sys.exit(app.exec_())\n",
    "\n",
    "\n",
    "run()"
   ]
  },
  {
   "cell_type": "code",
   "execution_count": null,
   "metadata": {
    "collapsed": true
   },
   "outputs": [],
   "source": []
  },
  {
   "cell_type": "code",
   "execution_count": null,
   "metadata": {
    "collapsed": true
   },
   "outputs": [],
   "source": []
  }
 ],
 "metadata": {
  "kernelspec": {
   "display_name": "Python 3",
   "language": "python",
   "name": "python3"
  },
  "language_info": {
   "codemirror_mode": {
    "name": "ipython",
    "version": 3
   },
   "file_extension": ".py",
   "mimetype": "text/x-python",
   "name": "python",
   "nbconvert_exporter": "python",
   "pygments_lexer": "ipython3",
   "version": "3.6.1"
  }
 },
 "nbformat": 4,
 "nbformat_minor": 2
}
